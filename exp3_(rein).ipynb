{
  "cells": [
    {
      "cell_type": "code",
      "execution_count": null,
      "metadata": {
        "id": "X-NPnX6RC8EL"
      },
      "outputs": [],
      "source": [
        "import warnings ; warnings.filterwarnings('ignore')\n",
        "\n",
        "import gym, gym_walk\n",
        "import numpy as np\n",
        "\n",
        "import random\n",
        "import warnings\n",
        "\n",
        "warnings.filterwarnings('ignore', category=DeprecationWarning)\n",
        "np.set_printoptions(suppress=True)\n",
        "random.seed(123); np.random.seed(123)\n"
      ]
    },
    {
      "cell_type": "code",
      "execution_count": null,
      "metadata": {
        "id": "Xq4FC7N-DYqX",
        "colab": {
          "base_uri": "https://localhost:8080/"
        },
        "outputId": "178040fd-17ce-423d-88f1-6e8371b6f9da"
      },
      "outputs": [
        {
          "output_type": "stream",
          "name": "stdout",
          "text": [
            "Collecting gym-walk\n",
            "  Cloning https://github.com/mimoralea/gym-walk to /tmp/pip-install-x6769zgy/gym-walk_959626790cdd45a99d339f42779b23fa\n",
            "  Running command git clone --filter=blob:none --quiet https://github.com/mimoralea/gym-walk /tmp/pip-install-x6769zgy/gym-walk_959626790cdd45a99d339f42779b23fa\n",
            "  Resolved https://github.com/mimoralea/gym-walk to commit b915b94cf2ad16f8833a1ad92ea94e88159279f5\n",
            "  Preparing metadata (setup.py) ... \u001b[?25l\u001b[?25hdone\n",
            "Requirement already satisfied: gym in /usr/local/lib/python3.12/dist-packages (from gym-walk) (0.25.2)\n",
            "Requirement already satisfied: numpy>=1.18.0 in /usr/local/lib/python3.12/dist-packages (from gym->gym-walk) (2.0.2)\n",
            "Requirement already satisfied: cloudpickle>=1.2.0 in /usr/local/lib/python3.12/dist-packages (from gym->gym-walk) (3.1.1)\n",
            "Requirement already satisfied: gym-notices>=0.0.4 in /usr/local/lib/python3.12/dist-packages (from gym->gym-walk) (0.1.0)\n"
          ]
        }
      ],
      "source": [
        "pip install git+https://github.com/mimoralea/gym-walk#egg=gym-walk"
      ]
    },
    {
      "cell_type": "code",
      "execution_count": null,
      "metadata": {
        "id": "ULnSv0hyELsY"
      },
      "outputs": [],
      "source": [
        "def print_policy(pi, P, action_symbols=('<', 'v', '>', '^'), n_cols=4, title='Policy:'):\n",
        "    print(title)\n",
        "    arrs = {k:v for k,v in enumerate(action_symbols)}\n",
        "    for s in range(len(P)):\n",
        "        a = pi(s)\n",
        "        print(\"| \", end=\"\")\n",
        "        if np.all([done for action in P[s].values() for _, _, _, done in action]):\n",
        "            print(\"\".rjust(9), end=\" \")\n",
        "        else:\n",
        "            print(str(s).zfill(2), arrs[a].rjust(6), end=\" \")\n",
        "        if (s + 1) % n_cols == 0: print(\"|\")"
      ]
    },
    {
      "cell_type": "code",
      "execution_count": null,
      "metadata": {
        "id": "odrRzhpWFxY6"
      },
      "outputs": [],
      "source": [
        "def print_state_value_function(V, P, n_cols=4, prec=3, title='State-value function:'):\n",
        "    print(title)\n",
        "    for s in range(len(P)):\n",
        "        v = V[s]\n",
        "        print(\"| \", end=\"\")\n",
        "        if np.all([done for action in P[s].values() for _, _, _, done in action]):\n",
        "            print(\"\".rjust(9), end=\" \")\n",
        "        else:\n",
        "            print(str(s).zfill(2), '{}'.format(np.round(v, prec)).rjust(6), end=\" \")\n",
        "        if (s + 1) % n_cols == 0: print(\"|\")"
      ]
    },
    {
      "cell_type": "code",
      "execution_count": null,
      "metadata": {
        "id": "1TQZrao3KV4z"
      },
      "outputs": [],
      "source": [
        "def probability_success(env, pi, goal_state, n_episodes=100, max_steps=200):\n",
        "    random.seed(123); np.random.seed(123) ; env.seed(123)\n",
        "    results = []\n",
        "    for _ in range(n_episodes):\n",
        "        state, done, steps = env.reset(), False, 0\n",
        "        while not done and steps < max_steps:\n",
        "            state, _, done, h = env.step(pi(state))\n",
        "            steps += 1\n",
        "        results.append(state == goal_state)\n",
        "    return np.sum(results)/len(results)"
      ]
    },
    {
      "cell_type": "code",
      "execution_count": null,
      "metadata": {
        "id": "Jo6HA0ljKYWS"
      },
      "outputs": [],
      "source": [
        "def mean_return(env, pi, n_episodes=100, max_steps=200):\n",
        "    random.seed(123); np.random.seed(123) ; env.seed(123)\n",
        "    results = []\n",
        "    for _ in range(n_episodes):\n",
        "        state, done, steps = env.reset(), False, 0\n",
        "        results.append(0.0)\n",
        "        while not done and steps < max_steps:\n",
        "            state, reward, done, _ = env.step(pi(state))\n",
        "            results[-1] += reward\n",
        "            steps += 1\n",
        "    return np.mean(results)"
      ]
    },
    {
      "cell_type": "markdown",
      "metadata": {
        "id": "uMrHhEWREm6n"
      },
      "source": [
        "# FrozenLake MDP\n",
        "\n"
      ]
    },
    {
      "cell_type": "code",
      "execution_count": null,
      "metadata": {
        "id": "iQarExmVL-oc"
      },
      "outputs": [],
      "source": [
        "env = gym.make('FrozenLake-v1')\n",
        "P = env.env.P\n",
        "init_state = env.reset()\n",
        "goal_state = 15\n",
        "LEFT, DOWN, RIGHT, UP = range(4)"
      ]
    },
    {
      "cell_type": "code",
      "execution_count": null,
      "metadata": {
        "id": "e1g6JQTez-NO",
        "colab": {
          "base_uri": "https://localhost:8080/"
        },
        "outputId": "867b057a-d412-4e5c-c24f-b96692ac068f"
      },
      "outputs": [
        {
          "output_type": "execute_result",
          "data": {
            "text/plain": [
              "{0: {0: [(0.3333333333333333, 0, 0.0, False),\n",
              "   (0.3333333333333333, 0, 0.0, False),\n",
              "   (0.3333333333333333, 4, 0.0, False)],\n",
              "  1: [(0.3333333333333333, 0, 0.0, False),\n",
              "   (0.3333333333333333, 4, 0.0, False),\n",
              "   (0.3333333333333333, 1, 0.0, False)],\n",
              "  2: [(0.3333333333333333, 4, 0.0, False),\n",
              "   (0.3333333333333333, 1, 0.0, False),\n",
              "   (0.3333333333333333, 0, 0.0, False)],\n",
              "  3: [(0.3333333333333333, 1, 0.0, False),\n",
              "   (0.3333333333333333, 0, 0.0, False),\n",
              "   (0.3333333333333333, 0, 0.0, False)]},\n",
              " 1: {0: [(0.3333333333333333, 1, 0.0, False),\n",
              "   (0.3333333333333333, 0, 0.0, False),\n",
              "   (0.3333333333333333, 5, 0.0, True)],\n",
              "  1: [(0.3333333333333333, 0, 0.0, False),\n",
              "   (0.3333333333333333, 5, 0.0, True),\n",
              "   (0.3333333333333333, 2, 0.0, False)],\n",
              "  2: [(0.3333333333333333, 5, 0.0, True),\n",
              "   (0.3333333333333333, 2, 0.0, False),\n",
              "   (0.3333333333333333, 1, 0.0, False)],\n",
              "  3: [(0.3333333333333333, 2, 0.0, False),\n",
              "   (0.3333333333333333, 1, 0.0, False),\n",
              "   (0.3333333333333333, 0, 0.0, False)]},\n",
              " 2: {0: [(0.3333333333333333, 2, 0.0, False),\n",
              "   (0.3333333333333333, 1, 0.0, False),\n",
              "   (0.3333333333333333, 6, 0.0, False)],\n",
              "  1: [(0.3333333333333333, 1, 0.0, False),\n",
              "   (0.3333333333333333, 6, 0.0, False),\n",
              "   (0.3333333333333333, 3, 0.0, False)],\n",
              "  2: [(0.3333333333333333, 6, 0.0, False),\n",
              "   (0.3333333333333333, 3, 0.0, False),\n",
              "   (0.3333333333333333, 2, 0.0, False)],\n",
              "  3: [(0.3333333333333333, 3, 0.0, False),\n",
              "   (0.3333333333333333, 2, 0.0, False),\n",
              "   (0.3333333333333333, 1, 0.0, False)]},\n",
              " 3: {0: [(0.3333333333333333, 3, 0.0, False),\n",
              "   (0.3333333333333333, 2, 0.0, False),\n",
              "   (0.3333333333333333, 7, 0.0, True)],\n",
              "  1: [(0.3333333333333333, 2, 0.0, False),\n",
              "   (0.3333333333333333, 7, 0.0, True),\n",
              "   (0.3333333333333333, 3, 0.0, False)],\n",
              "  2: [(0.3333333333333333, 7, 0.0, True),\n",
              "   (0.3333333333333333, 3, 0.0, False),\n",
              "   (0.3333333333333333, 3, 0.0, False)],\n",
              "  3: [(0.3333333333333333, 3, 0.0, False),\n",
              "   (0.3333333333333333, 3, 0.0, False),\n",
              "   (0.3333333333333333, 2, 0.0, False)]},\n",
              " 4: {0: [(0.3333333333333333, 0, 0.0, False),\n",
              "   (0.3333333333333333, 4, 0.0, False),\n",
              "   (0.3333333333333333, 8, 0.0, False)],\n",
              "  1: [(0.3333333333333333, 4, 0.0, False),\n",
              "   (0.3333333333333333, 8, 0.0, False),\n",
              "   (0.3333333333333333, 5, 0.0, True)],\n",
              "  2: [(0.3333333333333333, 8, 0.0, False),\n",
              "   (0.3333333333333333, 5, 0.0, True),\n",
              "   (0.3333333333333333, 0, 0.0, False)],\n",
              "  3: [(0.3333333333333333, 5, 0.0, True),\n",
              "   (0.3333333333333333, 0, 0.0, False),\n",
              "   (0.3333333333333333, 4, 0.0, False)]},\n",
              " 5: {0: [(1.0, 5, 0, True)],\n",
              "  1: [(1.0, 5, 0, True)],\n",
              "  2: [(1.0, 5, 0, True)],\n",
              "  3: [(1.0, 5, 0, True)]},\n",
              " 6: {0: [(0.3333333333333333, 2, 0.0, False),\n",
              "   (0.3333333333333333, 5, 0.0, True),\n",
              "   (0.3333333333333333, 10, 0.0, False)],\n",
              "  1: [(0.3333333333333333, 5, 0.0, True),\n",
              "   (0.3333333333333333, 10, 0.0, False),\n",
              "   (0.3333333333333333, 7, 0.0, True)],\n",
              "  2: [(0.3333333333333333, 10, 0.0, False),\n",
              "   (0.3333333333333333, 7, 0.0, True),\n",
              "   (0.3333333333333333, 2, 0.0, False)],\n",
              "  3: [(0.3333333333333333, 7, 0.0, True),\n",
              "   (0.3333333333333333, 2, 0.0, False),\n",
              "   (0.3333333333333333, 5, 0.0, True)]},\n",
              " 7: {0: [(1.0, 7, 0, True)],\n",
              "  1: [(1.0, 7, 0, True)],\n",
              "  2: [(1.0, 7, 0, True)],\n",
              "  3: [(1.0, 7, 0, True)]},\n",
              " 8: {0: [(0.3333333333333333, 4, 0.0, False),\n",
              "   (0.3333333333333333, 8, 0.0, False),\n",
              "   (0.3333333333333333, 12, 0.0, True)],\n",
              "  1: [(0.3333333333333333, 8, 0.0, False),\n",
              "   (0.3333333333333333, 12, 0.0, True),\n",
              "   (0.3333333333333333, 9, 0.0, False)],\n",
              "  2: [(0.3333333333333333, 12, 0.0, True),\n",
              "   (0.3333333333333333, 9, 0.0, False),\n",
              "   (0.3333333333333333, 4, 0.0, False)],\n",
              "  3: [(0.3333333333333333, 9, 0.0, False),\n",
              "   (0.3333333333333333, 4, 0.0, False),\n",
              "   (0.3333333333333333, 8, 0.0, False)]},\n",
              " 9: {0: [(0.3333333333333333, 5, 0.0, True),\n",
              "   (0.3333333333333333, 8, 0.0, False),\n",
              "   (0.3333333333333333, 13, 0.0, False)],\n",
              "  1: [(0.3333333333333333, 8, 0.0, False),\n",
              "   (0.3333333333333333, 13, 0.0, False),\n",
              "   (0.3333333333333333, 10, 0.0, False)],\n",
              "  2: [(0.3333333333333333, 13, 0.0, False),\n",
              "   (0.3333333333333333, 10, 0.0, False),\n",
              "   (0.3333333333333333, 5, 0.0, True)],\n",
              "  3: [(0.3333333333333333, 10, 0.0, False),\n",
              "   (0.3333333333333333, 5, 0.0, True),\n",
              "   (0.3333333333333333, 8, 0.0, False)]},\n",
              " 10: {0: [(0.3333333333333333, 6, 0.0, False),\n",
              "   (0.3333333333333333, 9, 0.0, False),\n",
              "   (0.3333333333333333, 14, 0.0, False)],\n",
              "  1: [(0.3333333333333333, 9, 0.0, False),\n",
              "   (0.3333333333333333, 14, 0.0, False),\n",
              "   (0.3333333333333333, 11, 0.0, True)],\n",
              "  2: [(0.3333333333333333, 14, 0.0, False),\n",
              "   (0.3333333333333333, 11, 0.0, True),\n",
              "   (0.3333333333333333, 6, 0.0, False)],\n",
              "  3: [(0.3333333333333333, 11, 0.0, True),\n",
              "   (0.3333333333333333, 6, 0.0, False),\n",
              "   (0.3333333333333333, 9, 0.0, False)]},\n",
              " 11: {0: [(1.0, 11, 0, True)],\n",
              "  1: [(1.0, 11, 0, True)],\n",
              "  2: [(1.0, 11, 0, True)],\n",
              "  3: [(1.0, 11, 0, True)]},\n",
              " 12: {0: [(1.0, 12, 0, True)],\n",
              "  1: [(1.0, 12, 0, True)],\n",
              "  2: [(1.0, 12, 0, True)],\n",
              "  3: [(1.0, 12, 0, True)]},\n",
              " 13: {0: [(0.3333333333333333, 9, 0.0, False),\n",
              "   (0.3333333333333333, 12, 0.0, True),\n",
              "   (0.3333333333333333, 13, 0.0, False)],\n",
              "  1: [(0.3333333333333333, 12, 0.0, True),\n",
              "   (0.3333333333333333, 13, 0.0, False),\n",
              "   (0.3333333333333333, 14, 0.0, False)],\n",
              "  2: [(0.3333333333333333, 13, 0.0, False),\n",
              "   (0.3333333333333333, 14, 0.0, False),\n",
              "   (0.3333333333333333, 9, 0.0, False)],\n",
              "  3: [(0.3333333333333333, 14, 0.0, False),\n",
              "   (0.3333333333333333, 9, 0.0, False),\n",
              "   (0.3333333333333333, 12, 0.0, True)]},\n",
              " 14: {0: [(0.3333333333333333, 10, 0.0, False),\n",
              "   (0.3333333333333333, 13, 0.0, False),\n",
              "   (0.3333333333333333, 14, 0.0, False)],\n",
              "  1: [(0.3333333333333333, 13, 0.0, False),\n",
              "   (0.3333333333333333, 14, 0.0, False),\n",
              "   (0.3333333333333333, 15, 1.0, True)],\n",
              "  2: [(0.3333333333333333, 14, 0.0, False),\n",
              "   (0.3333333333333333, 15, 1.0, True),\n",
              "   (0.3333333333333333, 10, 0.0, False)],\n",
              "  3: [(0.3333333333333333, 15, 1.0, True),\n",
              "   (0.3333333333333333, 10, 0.0, False),\n",
              "   (0.3333333333333333, 13, 0.0, False)]},\n",
              " 15: {0: [(1.0, 15, 0, True)],\n",
              "  1: [(1.0, 15, 0, True)],\n",
              "  2: [(1.0, 15, 0, True)],\n",
              "  3: [(1.0, 15, 0, True)]}}"
            ]
          },
          "metadata": {},
          "execution_count": 39
        }
      ],
      "source": [
        "P"
      ]
    },
    {
      "cell_type": "code",
      "execution_count": null,
      "metadata": {
        "id": "1pnU_owQGPt0",
        "colab": {
          "base_uri": "https://localhost:8080/"
        },
        "outputId": "6813f862-a37c-4d85-8937-a8cea41fb329"
      },
      "outputs": [
        {
          "output_type": "execute_result",
          "data": {
            "text/plain": [
              "0"
            ]
          },
          "metadata": {},
          "execution_count": 40
        }
      ],
      "source": [
        "init_state"
      ]
    },
    {
      "cell_type": "code",
      "execution_count": null,
      "metadata": {
        "id": "xDjAg7A5EuBl",
        "colab": {
          "base_uri": "https://localhost:8080/"
        },
        "outputId": "e3b93b5c-6ba9-4b4b-89e8-8d5d6f6928e9"
      },
      "outputs": [
        {
          "output_type": "stream",
          "name": "stdout",
          "text": [
            "Name:Cynthia Mehul J\n",
            "Register Number:212223240020\n",
            "Policy:\n",
            "| 00      > | 01      > | 02      > | 03      > |\n",
            "| 04      > |           | 06      > |           |\n",
            "| 08      > | 09      > | 10      > |           |\n",
            "|           | 13      > | 14      > |           |\n"
          ]
        }
      ],
      "source": [
        "# Adversarial Policy\n",
        "pi_frozenlake1 = lambda s: {\n",
        "    0: RIGHT,\n",
        "    1: RIGHT,\n",
        "    2: RIGHT,\n",
        "    3: RIGHT,\n",
        "    4: RIGHT,\n",
        "    5: RIGHT,\n",
        "    6: RIGHT,\n",
        "    7: RIGHT,\n",
        "    8: RIGHT,\n",
        "    9: RIGHT,\n",
        "    10:RIGHT,\n",
        "    11:RIGHT,\n",
        "    12:RIGHT,\n",
        "    13:RIGHT,\n",
        "    14:RIGHT,\n",
        "    15:RIGHT #Stop\n",
        "}[s]\n",
        "print(\"Name:Cynthia Mehul J\")\n",
        "print(\"Register Number:212223240020\")\n",
        "print_policy(pi_frozenlake1, P, action_symbols=('<', 'v', '>', '^'), n_cols=4)"
      ]
    },
    {
      "cell_type": "code",
      "execution_count": null,
      "metadata": {
        "id": "K_F49FYPKSla",
        "colab": {
          "base_uri": "https://localhost:8080/"
        },
        "outputId": "2a8a0b85-d791-4de7-a60e-ee327635c9d8"
      },
      "outputs": [
        {
          "output_type": "stream",
          "name": "stdout",
          "text": [
            "Reaches goal 1.00%. Obtains an average undiscounted return of 0.0100.\n"
          ]
        }
      ],
      "source": [
        "print('Reaches goal {:.2f}%. Obtains an average undiscounted return of {:.4f}.'.format(\n",
        "    probability_success(env, pi_frozenlake1, goal_state=goal_state)*100,\n",
        "    mean_return(env, pi_frozenlake1)))"
      ]
    },
    {
      "cell_type": "markdown",
      "metadata": {
        "id": "naeLUwLgFA5-"
      },
      "source": [
        "# Policy Evaluation"
      ]
    },
    {
      "cell_type": "code",
      "execution_count": null,
      "metadata": {
        "id": "Eog1Pxb4E-Kp"
      },
      "outputs": [],
      "source": [
        "def policy_evaluation(pi, P, gamma=1.0, theta=1e-10):\n",
        "    prev_V = np.zeros(len(P), dtype=np.float64)\n",
        "    while True:\n",
        "        V = np.zeros(len(P), dtype=np.float64)\n",
        "        for s in range(len(P)):\n",
        "            for prob, next_state, reward, done in P[s][pi(s)]:\n",
        "                V[s] += prob * (reward + gamma * prev_V[next_state] * (not done))\n",
        "        if np.max(np.abs(prev_V - V)) < theta:\n",
        "            break\n",
        "        prev_V = V.copy()\n",
        "    return V"
      ]
    },
    {
      "cell_type": "code",
      "execution_count": null,
      "metadata": {
        "id": "XFAH8_6GFGVs",
        "colab": {
          "base_uri": "https://localhost:8080/"
        },
        "outputId": "12b1d2a2-7c47-4dc0-9036-8a5d2a2717b0"
      },
      "outputs": [
        {
          "output_type": "stream",
          "name": "stdout",
          "text": [
            "Name:Cynthia Mehul J\n",
            "Register Number:212223\n",
            "State-value function:\n",
            "| 00 0.0315 | 01 0.02381 | 02 0.04762 | 03    0.0 |\n",
            "| 04 0.03919 |           | 06 0.09524 |           |\n",
            "| 08 0.08608 | 09 0.21905 | 10 0.2381 |           |\n",
            "|           | 13 0.41905 | 14 0.61905 |           |\n"
          ]
        }
      ],
      "source": [
        "# Code to evaluate the adversarial policy\n",
        "V1 = policy_evaluation(pi_frozenlake1, P)\n",
        "print(\"Name:Cynthia Mehul J\")\n",
        "print(\"Register Number:212223\")\n",
        "print_state_value_function(V1, P, n_cols=4, prec=5)"
      ]
    },
    {
      "cell_type": "markdown",
      "metadata": {
        "id": "C-DFPrKoAIF1"
      },
      "source": [
        "# Policy Improvement"
      ]
    },
    {
      "cell_type": "code",
      "execution_count": null,
      "metadata": {
        "id": "Z2x10x9VAG1o"
      },
      "outputs": [],
      "source": [
        "def policy_improvement(V,P,gamma=1.0):\n",
        "  Q=np.zeros((len(P),len(P[0])),dtype=np.float64)\n",
        "  for s in range(len(P)):\n",
        "    for a in range(len(P[s])):\n",
        "      for prob, next_state, reward, done in P[s][a]:\n",
        "        Q[s][a]+=prob*(reward+gamma*V[next_state]*(not done))\n",
        "      new_pi=lambda s: {s:a for s,a in enumerate(np.argmax(Q, axis=1))}[s]\n",
        "  return new_pi"
      ]
    },
    {
      "cell_type": "code",
      "execution_count": null,
      "metadata": {
        "collapsed": true,
        "id": "eOvlP--dAncq",
        "colab": {
          "base_uri": "https://localhost:8080/"
        },
        "outputId": "a1083630-d2f2-4d03-92f3-815a46758646"
      },
      "outputs": [
        {
          "output_type": "stream",
          "name": "stdout",
          "text": [
            "Name:Cynthia Mehul J\n",
            "Register Number:212223240020\n",
            "Policy:\n",
            "| 00      < | 01      ^ | 02      < | 03      < |\n",
            "| 04      < |           | 06      < |           |\n",
            "| 08      ^ | 09      v | 10      < |           |\n",
            "|           | 13      > | 14      v |           |\n"
          ]
        }
      ],
      "source": [
        "pi_2 = policy_improvement(V1, P)\n",
        "print(\"Name:Cynthia Mehul J\")\n",
        "print(\"Register Number:212223240020\")\n",
        "print_policy(pi_2, P, action_symbols=('<', 'v', '>', '^'), n_cols=4)\n"
      ]
    },
    {
      "cell_type": "code",
      "execution_count": null,
      "metadata": {
        "id": "LnJaDq4mA27u",
        "colab": {
          "base_uri": "https://localhost:8080/"
        },
        "outputId": "c17a8df3-56d2-4f5e-8e8c-5c3d21886959"
      },
      "outputs": [
        {
          "output_type": "stream",
          "name": "stdout",
          "text": [
            "Reaches goal 66.00%. Obtains an average undiscounted return of 0.6600.\n"
          ]
        }
      ],
      "source": [
        "print('Reaches goal {:.2f}%. Obtains an average undiscounted return of {:.4f}.'.format(\n",
        "    probability_success(env, pi_2, goal_state=goal_state)*100,\n",
        "    mean_return(env, pi_2)))"
      ]
    },
    {
      "cell_type": "code",
      "execution_count": null,
      "metadata": {
        "id": "A6aQnkiuBH-A",
        "colab": {
          "base_uri": "https://localhost:8080/"
        },
        "outputId": "840207d9-39ea-461f-a679-84b147779a77"
      },
      "outputs": [
        {
          "output_type": "stream",
          "name": "stdout",
          "text": [
            "Name:Cynthia Mehul J\n",
            "Register Number:212223240020\n",
            "State-value function:\n",
            "| 00 0.78049 | 01 0.65854 | 02 0.53659 | 03 0.26829 |\n",
            "| 04 0.78049 |           | 06 0.41463 |           |\n",
            "| 08 0.78049 | 09 0.78049 | 10 0.70732 |           |\n",
            "|           | 13 0.85366 | 14 0.92683 |           |\n"
          ]
        }
      ],
      "source": [
        "V2 = policy_evaluation(pi_2, P)\n",
        "print(\"Name:Cynthia Mehul J\")\n",
        "print(\"Register Number:212223240020\")\n",
        "print_state_value_function(V2, P, n_cols=4, prec=5)"
      ]
    },
    {
      "cell_type": "code",
      "execution_count": null,
      "metadata": {
        "id": "7LgNwrO8BmXY",
        "colab": {
          "base_uri": "https://localhost:8080/"
        },
        "outputId": "f2784bac-c066-4f07-95b3-b50e0eeda06d"
      },
      "outputs": [
        {
          "output_type": "stream",
          "name": "stdout",
          "text": [
            "The Improved policy is the better policy\n"
          ]
        }
      ],
      "source": [
        "# comparing the initial and the improved policy\n",
        "if(np.sum(V1>=V2)==16):\n",
        "  print(\"The Adversarial policy is the better policy\")\n",
        "elif(np.sum(V2>=V1)==16):\n",
        "  print(\"The Improved policy is the better policy\")\n",
        "else:\n",
        "  print(\"Both policies have their merits.\")"
      ]
    },
    {
      "cell_type": "markdown",
      "metadata": {
        "id": "XL5JNrIKB0fd"
      },
      "source": [
        "# Policy Iteration"
      ]
    },
    {
      "cell_type": "code",
      "execution_count": null,
      "metadata": {
        "id": "S_3hGyPlB2Dc"
      },
      "outputs": [],
      "source": [
        "def policy_iteration(P,gamma=1.0,theta=1e-10):\n",
        "  random_actions=np.random.choice(tuple(P[0].keys()),len(P))\n",
        "  pi=lambda s: {s:a for s, a in enumerate(random_actions)}[s]\n",
        "  while True:\n",
        "    old_pi={s: pi(s) for s in range(len(P))}\n",
        "    V=policy_evaluation(pi,P,gamma,theta)\n",
        "    pi=policy_improvement(V,P,gamma)\n",
        "    if old_pi=={s:pi(s) for s in range(len(P))}:\n",
        "      break\n",
        "  return V,pi"
      ]
    },
    {
      "cell_type": "code",
      "execution_count": null,
      "metadata": {
        "id": "OeLxNOjmCTk0"
      },
      "outputs": [],
      "source": [
        "optimal_V, optimal_pi = policy_iteration(P)"
      ]
    },
    {
      "cell_type": "code",
      "execution_count": null,
      "metadata": {
        "id": "QHh4iMJuCbFc",
        "colab": {
          "base_uri": "https://localhost:8080/"
        },
        "outputId": "942363f2-cda5-4987-ed90-83a610968aac"
      },
      "outputs": [
        {
          "output_type": "stream",
          "name": "stdout",
          "text": [
            "Name:Cynthia Mehul J\n",
            "Register Number:212223240020\n",
            "Optimal policy and state-value function (PI):\n",
            "Policy:\n",
            "| 00      < | 01      ^ | 02      ^ | 03      ^ | 04      < |           | 06      < |\n",
            "|           | 08      ^ | 09      v | 10      < |           |           | 13      > |\n",
            "| 14      v |           "
          ]
        }
      ],
      "source": [
        "print(\"Name:Cynthia Mehul J\")\n",
        "print(\"Register Number:212223240020\")\n",
        "print('Optimal policy and state-value function (PI):')\n",
        "print_policy(optimal_pi, P, action_symbols=('<', 'v', '>', '^'), n_cols=7)"
      ]
    },
    {
      "cell_type": "code",
      "execution_count": null,
      "metadata": {
        "id": "jWKHQ_9QCfA7",
        "colab": {
          "base_uri": "https://localhost:8080/"
        },
        "outputId": "1003e422-c817-46a4-db3a-47638133fa88"
      },
      "outputs": [
        {
          "output_type": "stream",
          "name": "stdout",
          "text": [
            "Reaches goal 69.00%. Obtains an average undiscounted return of 0.6900.\n"
          ]
        }
      ],
      "source": [
        "print('Reaches goal {:.2f}%. Obtains an average undiscounted return of {:.4f}.'.format(\n",
        "    probability_success(env, optimal_pi, goal_state=goal_state)*100,\n",
        "    mean_return(env, optimal_pi)))"
      ]
    },
    {
      "cell_type": "code",
      "execution_count": null,
      "metadata": {
        "id": "UOI5gioZCgw-",
        "colab": {
          "base_uri": "https://localhost:8080/"
        },
        "outputId": "f9cffb0f-a5b4-47d9-b10c-cfcc0e6437c7"
      },
      "outputs": [
        {
          "output_type": "stream",
          "name": "stdout",
          "text": [
            "Name:Cynthia Mehul J\n",
            "Register Number:212223240020\n",
            "State-value function:\n",
            "| 00 0.82353 | 01 0.82353 | 02 0.82353 | 03 0.82353 |\n",
            "| 04 0.82353 |           | 06 0.52941 |           |\n",
            "| 08 0.82353 | 09 0.82353 | 10 0.76471 |           |\n",
            "|           | 13 0.88235 | 14 0.94118 |           |\n"
          ]
        }
      ],
      "source": [
        "print(\"Name:Cynthia Mehul J\")\n",
        "print(\"Register Number:212223240020\")\n",
        "print_state_value_function(optimal_V, P, n_cols=4, prec=5)"
      ]
    },
    {
      "cell_type": "code",
      "source": [],
      "metadata": {
        "id": "LEDORrecjcNQ"
      },
      "execution_count": null,
      "outputs": []
    }
  ],
  "metadata": {
    "colab": {
      "provenance": []
    },
    "kernelspec": {
      "display_name": "Python 3",
      "name": "python3"
    },
    "language_info": {
      "name": "python"
    }
  },
  "nbformat": 4,
  "nbformat_minor": 0
}